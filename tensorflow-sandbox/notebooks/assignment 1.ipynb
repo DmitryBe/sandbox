{
 "cells": [
  {
   "cell_type": "code",
   "execution_count": 286,
   "metadata": {
    "collapsed": false
   },
   "outputs": [],
   "source": [
    "from sets import Set\n",
    "import string\n",
    "import copy\n",
    "from Queue import Queue"
   ]
  },
  {
   "cell_type": "code",
   "execution_count": 296,
   "metadata": {
    "collapsed": false
   },
   "outputs": [],
   "source": [
    "alphabet=dict(zip(string.letters,[ord(c)%32 for c in string.letters]))\n",
    "alphabet_reverse = {}\n",
    "for x in alphabet:\n",
    "    alphabet_reverse[alphabet[x]] = x.upper()\n",
    "    \n",
    "# alphabet -> num\n",
    "def letter_to_idx(l):\n",
    "    return alphabet[l]\n",
    "\n",
    "# num -> letter\n",
    "def idx_to_letter(idx):\n",
    "    return alphabet_reverse[idx]\n",
    "\n",
    "# build graph\n",
    "def build_graph(input):\n",
    "    info = []\n",
    "    max_idx = 0\n",
    "    for x in input.replace(' ', '').split(','):\n",
    "        n_from = letter_to_idx(x[0]) \n",
    "        n_to = letter_to_idx(x[1])\n",
    "        max_idx = max(n_from, n_to, max_idx)\n",
    "        distance = int(x[2])\n",
    "        info.append((n_from, n_to, distance))\n",
    "\n",
    "    graph = [[0 for x in range(max_idx)] for r in range(max_idx)]\n",
    "    for n_from, n_to, distance in info:\n",
    "        graph[n_from - 1][n_to - 1] = distance\n",
    "\n",
    "    return graph\n",
    "\n",
    "# print as matrix\n",
    "def print_graph(graph):\n",
    "    header = \" \".join([' '] + [idx_to_letter(x + 1) for x in range(len(graph))])\n",
    "    print header\n",
    "    for ri in range(len(graph)):\n",
    "        node_name = idx_to_letter(ri + 1)\n",
    "        row = graph[ri]\n",
    "        row_str = \" \".join([node_name] + [str(x) if x != 0 else \"0\" for x in row])\n",
    "        print row_str\n",
    "\n",
    "# node_idx starts from 1\n",
    "# returns [(node_idx, distance)]\n",
    "def get_related_nodes(node_idx, graph):\n",
    "    related_nodes = graph[node_idx - 1]\n",
    "    return [(i + 1, related_nodes[i]) for i in range(len(related_nodes)) if related_nodes[i] != 0]\n",
    "\n",
    "# find shortest path using dijkstra algorithm\n",
    "# returns: shortest_path [node_id], shortest_distance\n",
    "def dijkstra(start, end, graph):\n",
    "    \n",
    "    # letter -> idx\n",
    "    start = letter_to_idx(start)\n",
    "    end = letter_to_idx(end)\n",
    "    \n",
    "    # {node_id: tent_distance}\n",
    "    node_tentative_distances = {}\n",
    "    # {node_id: prev_node_id}\n",
    "    node_prev = {}\n",
    "    visited_nodes = Set()\n",
    "\n",
    "    # compute tentative distance for nodes\n",
    "    def forward(current_node, current_node_tent_distance):\n",
    "        # get related nodes\n",
    "        related_nodes = get_related_nodes(current_node, graph=graph)\n",
    "        \n",
    "        # update node tentative distance\n",
    "        for related_node_idx, distance_to_related_node in related_nodes:\n",
    "            if related_node_idx not in visited_nodes:\n",
    "                related_node_tentative_distance = node_tentative_distances.get(related_node_idx)\n",
    "                if related_node_tentative_distance is None:\n",
    "                    node_tentative_distances[related_node_idx] = current_node_tent_distance + distance_to_related_node\n",
    "                    node_prev[related_node_idx] = current_node\n",
    "                elif related_node_tentative_distance > current_node_tent_distance + distance_to_related_node:\n",
    "                    # update tentative distance\n",
    "                    node_tentative_distances[related_node_idx] = current_node_tent_distance + distance_to_related_node\n",
    "                    node_prev[related_node_idx] = current_node\n",
    "\n",
    "        # mark current node as visited\n",
    "        if current_node_tent_distance != 0:\n",
    "            # do not add start node\n",
    "            visited_nodes.add(current_node)\n",
    "        \n",
    "        # recursion\n",
    "        for related_node_idx, distance_to_related_node in related_nodes:\n",
    "            if related_node_idx not in visited_nodes:\n",
    "                related_node_tentative_distance = node_tentative_distances[related_node_idx]\n",
    "                forward(related_node_idx, related_node_tentative_distance)\n",
    "                \n",
    "    # return None if path not found, or [node_idx]\n",
    "    def reverse_shortest_path(node_idx):\n",
    "                        \n",
    "        def _reverse(node_idx, depth = 0):\n",
    "            if node_idx == start:\n",
    "                if start == end and depth == 0:\n",
    "                    # prevent early exit when start node eq end node\n",
    "                    return reverse(node_prev[node_idx], depth + 1) + [node_idx]\n",
    "                else:\n",
    "                    return [node_idx]\n",
    "            else:\n",
    "                return _reverse(node_prev[node_idx], depth + 1) + [node_idx]\n",
    "                \n",
    "        try:\n",
    "            return _reverse(node_idx)\n",
    "        except Exception as ex:\n",
    "            return None\n",
    "\n",
    "    # run\n",
    "    forward(start, 0)\n",
    "    shortest_path = reverse_shortest_path(end)    \n",
    "    shortest_distance = node_tentative_distances.get(end)\n",
    "    return shortest_path, shortest_distance\n",
    "\n",
    "# print path\n",
    "def print_path(path, distance):\n",
    "    if path is not None:\n",
    "        path_str = \"->\".join(idx_to_letter(x) for x in path)\n",
    "        return '[{}] {}'.format(distance, path_str)\n",
    "    else:\n",
    "        return 'PATH NOT FOUND'\n",
    "\n",
    "# return None if not exist\n",
    "def get_route_distance(route_str, graph):\n",
    "    route = route_str.split('-')\n",
    "    total_distance = 0\n",
    "    for i in range(len(route) - 1):\n",
    "        start_idx, end_idx = letter_to_idx(route[i]), letter_to_idx(route[i+1])\n",
    "        distance = graph[start_idx - 1][end_idx - 1]\n",
    "        if distance > 0:\n",
    "            total_distance += distance\n",
    "        else:\n",
    "            return None\n",
    "    return total_distance\n"
   ]
  },
  {
   "cell_type": "code",
   "execution_count": 288,
   "metadata": {
    "collapsed": false
   },
   "outputs": [],
   "source": [
    "class RouteStop(object):\n",
    "        \n",
    "    def __init__(self, node_id):\n",
    "        self.node_id = node_id\n",
    "        self.next_stop = None\n",
    "        self.distance = 0\n",
    "        \n",
    "    def get_node_id(self):\n",
    "        return self.node_id\n",
    "\n",
    "    def set_next_stop(self, next_stop, distance):\n",
    "        self.next_stop = next_stop\n",
    "        self.distance = distance\n",
    "        \n",
    "    def get_next_stop(self):\n",
    "        return self.next_stop\n",
    "        \n",
    "    def __eq__(self, other):\n",
    "        return self.node_id == other.node_id and self.distance == other.distance\n",
    "        \n",
    "    def get_route(self):\n",
    "        if self.next_stop is not None:\n",
    "            return '{} -{}-> {}'.format(idx_to_letter(self.node_id + 1), self.distance, self.next_stop.get_route())\n",
    "        else:\n",
    "            return idx_to_letter(self.node_id + 1)\n",
    "        \n",
    "class Route(object):\n",
    "    \n",
    "    def __init__(self, start_node_id):\n",
    "        self.start = RouteStop(start_node_id)\n",
    "        self.end = self.start\n",
    "        self.route_distance = 0\n",
    "        self.route_total_stops = 0\n",
    "        \n",
    "    def is_empty(self):\n",
    "        return self.start == self.end\n",
    "        \n",
    "    def get_start(self):\n",
    "        return self.start\n",
    "\n",
    "    def get_end(self):\n",
    "        return self.end\n",
    "    \n",
    "    def add_stop(self, stop_id, distance):\n",
    "        next_stop = RouteStop(stop_id)\n",
    "        self.end.set_next_stop(next_stop, distance)\n",
    "        self.end = next_stop\n",
    "        self.route_total_stops += 1\n",
    "        self.route_distance += distance\n",
    "        \n",
    "    def get_route_distance(self):\n",
    "        return self.route_distance\n",
    "    \n",
    "    def get_route_total_stops(self):\n",
    "        return self.route_total_stops\n",
    "    \n",
    "    def print_route(self, print_distance = True):\n",
    "        print '{} [distance / stops: {} / {}]'.format(self.start.get_route(), self.route_distance, self.route_total_stops)\n",
    "        \n",
    "def bsf(start, end, graph, stop_signal):    \n",
    "\n",
    "    # letter -> idx\n",
    "    start = letter_to_idx(start) - 1\n",
    "    end = letter_to_idx(end) - 1\n",
    "    \n",
    "    # found routes\n",
    "    all_routes = []\n",
    "    \n",
    "    q = Queue(maxsize=0)\n",
    "    # start\n",
    "    q.put(Route(start_node_id=start))\n",
    "    \n",
    "    while q.empty() is False:\n",
    "        route = q.get()\n",
    "        row = graph[route.get_end().get_node_id()]\n",
    "        related = [(r, row[r]) for r in range(len(row)) if row[r] != 0]\n",
    "        for node_id, distance in related:\n",
    "            new_route = copy.deepcopy(route)            \n",
    "            new_route.add_stop(node_id, distance)                        \n",
    "            if stop_signal(new_route) :\n",
    "                all_routes.append(new_route)\n",
    "                q.put(new_route)\n",
    "    \n",
    "    return [x for x in all_routes if x.get_end().get_node_id() == end]\n",
    "    \n",
    "def find_routes_with_exact_stops(start, end, stops):\n",
    "    all_found_routes = bsf(start, end, graph, lambda route: route.get_route_total_stops() < stops + 1)\n",
    "    exect_stops = [x for x in all_found_routes if x.get_route_total_stops() == stops]\n",
    "    return (exect_stops, len(exect_stops))\n",
    "\n",
    "def find_routes_with_max_stops(start, end, stops):\n",
    "    all_found_routes = bsf(start, end, graph, lambda route: route.get_route_total_stops() < stops + 1)\n",
    "    return (all_found_routes, len(all_found_routes))\n",
    "\n",
    "def find_routes_with_max_distance(start, end, max_distance):\n",
    "    all_found_routes = bsf(start, end, graph, lambda route: route.get_route_distance() < max_distance)\n",
    "    return (all_found_routes, len(all_found_routes))\n"
   ]
  },
  {
   "cell_type": "code",
   "execution_count": 274,
   "metadata": {
    "collapsed": true
   },
   "outputs": [],
   "source": [
    "# use cases"
   ]
  },
  {
   "cell_type": "code",
   "execution_count": 311,
   "metadata": {
    "collapsed": false
   },
   "outputs": [
    {
     "name": "stdout",
     "output_type": "stream",
     "text": [
      "  A B C D E F\n",
      "A 0 5 0 5 7 0\n",
      "B 0 0 4 0 0 0\n",
      "C 0 0 0 8 2 3\n",
      "D 0 0 8 0 6 0\n",
      "E 0 3 0 0 0 4\n",
      "F 0 0 0 0 0 0\n"
     ]
    }
   ],
   "source": [
    "# define graph \n",
    "\n",
    "input = \"AB5, BC4, CD8, DC8, DE6, AD5, CE2, EB3, AE7, CF3, EF4\"\n",
    "graph = build_graph(input)\n",
    "print_graph(graph)"
   ]
  },
  {
   "cell_type": "code",
   "execution_count": 312,
   "metadata": {
    "collapsed": false
   },
   "outputs": [
    {
     "data": {
      "text/plain": [
       "'[11] A->E->F'"
      ]
     },
     "execution_count": 312,
     "metadata": {},
     "output_type": "execute_result"
    }
   ],
   "source": [
    "# find shortest path\n",
    "\n",
    "shortest_path, distance = dijkstra(start='A', end='F', graph=graph)\n",
    "print_path(shortest_path, distance)"
   ]
  },
  {
   "cell_type": "code",
   "execution_count": 313,
   "metadata": {
    "collapsed": false
   },
   "outputs": [
    {
     "name": "stdout",
     "output_type": "stream",
     "text": [
      "distance 9\n"
     ]
    }
   ],
   "source": [
    "# find route distance\n",
    "\n",
    "distance = get_route_distance('A-B-C', graph)\n",
    "if distance:\n",
    "    print 'distance {}'.format(distance)\n",
    "else:\n",
    "    print 'NO SUCH ROUTE'"
   ]
  },
  {
   "cell_type": "code",
   "execution_count": 317,
   "metadata": {
    "collapsed": false
   },
   "outputs": [
    {
     "name": "stdout",
     "output_type": "stream",
     "text": [
      "2\n",
      "C -8-> D -8-> C [distance / stops: 16 / 2]\n",
      "C -2-> E -3-> B -4-> C [distance / stops: 9 / 3]\n"
     ]
    },
    {
     "data": {
      "text/plain": [
       "[None, None]"
      ]
     },
     "execution_count": 317,
     "metadata": {},
     "output_type": "execute_result"
    }
   ],
   "source": [
    "# find routes with max stops\n",
    "\n",
    "r, c = find_routes_with_max_stops('C', 'C', 3)\n",
    "assert(c == 2)\n",
    "print c\n",
    "[i.print_route() for i in r]"
   ]
  },
  {
   "cell_type": "code",
   "execution_count": 293,
   "metadata": {
    "collapsed": false
   },
   "outputs": [
    {
     "name": "stdout",
     "output_type": "stream",
     "text": [
      "3\n",
      "A -5-> B -4-> C -8-> D -8-> C [distance / stops: 25 / 4]\n",
      "A -5-> D -8-> C -8-> D -8-> C [distance / stops: 29 / 4]\n",
      "A -5-> D -6-> E -3-> B -4-> C [distance / stops: 18 / 4]\n"
     ]
    },
    {
     "data": {
      "text/plain": [
       "[None, None, None]"
      ]
     },
     "execution_count": 293,
     "metadata": {},
     "output_type": "execute_result"
    }
   ],
   "source": [
    "# find routes with exact stops\n",
    "\n",
    "r, c = find_routes_with_exact_stops('A', 'C', 4)\n",
    "assert(c == 3)\n",
    "print c\n",
    "[i.print_route() for i in r]"
   ]
  },
  {
   "cell_type": "code",
   "execution_count": 294,
   "metadata": {
    "collapsed": false
   },
   "outputs": [
    {
     "name": "stdout",
     "output_type": "stream",
     "text": [
      "7\n",
      "C -8-> D -8-> C [distance / stops: 16 / 2]\n",
      "C -2-> E -3-> B -4-> C [distance / stops: 9 / 3]\n",
      "C -8-> D -6-> E -3-> B -4-> C [distance / stops: 21 / 4]\n",
      "C -8-> D -8-> C -2-> E -3-> B -4-> C [distance / stops: 25 / 5]\n",
      "C -2-> E -3-> B -4-> C -8-> D -8-> C [distance / stops: 25 / 5]\n",
      "C -2-> E -3-> B -4-> C -2-> E -3-> B -4-> C [distance / stops: 18 / 6]\n",
      "C -2-> E -3-> B -4-> C -2-> E -3-> B -4-> C -2-> E -3-> B -4-> C [distance / stops: 27 / 9]\n"
     ]
    },
    {
     "data": {
      "text/plain": [
       "[None, None, None, None, None, None, None]"
      ]
     },
     "execution_count": 294,
     "metadata": {},
     "output_type": "execute_result"
    }
   ],
   "source": [
    "# find routes with max distance\n",
    "\n",
    "r, c = find_routes_with_max_distance('C', 'C', 30)\n",
    "assert(c == 7)\n",
    "print c\n",
    "[i.print_route() for i in r]"
   ]
  },
  {
   "cell_type": "code",
   "execution_count": null,
   "metadata": {
    "collapsed": true
   },
   "outputs": [],
   "source": []
  }
 ],
 "metadata": {
  "kernelspec": {
   "display_name": "Python 2",
   "language": "python",
   "name": "python2"
  },
  "language_info": {
   "codemirror_mode": {
    "name": "ipython",
    "version": 2
   },
   "file_extension": ".py",
   "mimetype": "text/x-python",
   "name": "python",
   "nbconvert_exporter": "python",
   "pygments_lexer": "ipython2",
   "version": "2.7.10"
  }
 },
 "nbformat": 4,
 "nbformat_minor": 2
}
