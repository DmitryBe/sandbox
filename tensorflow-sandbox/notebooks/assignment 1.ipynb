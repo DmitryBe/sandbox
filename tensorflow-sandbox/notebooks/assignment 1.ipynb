{
 "cells": [
  {
   "cell_type": "code",
   "execution_count": 159,
   "metadata": {
    "collapsed": true
   },
   "outputs": [],
   "source": [
    "from sets import Set\n",
    "import string"
   ]
  },
  {
   "cell_type": "code",
   "execution_count": 414,
   "metadata": {
    "collapsed": false
   },
   "outputs": [],
   "source": [
    "alphabet=dict(zip(string.letters,[ord(c)%32 for c in string.letters]))\n",
    "alphabet_reverse = {}\n",
    "for x in alphabet:\n",
    "    alphabet_reverse[alphabet[x]] = x.upper()\n",
    "    \n",
    "# alphabet -> num\n",
    "def letter_to_idx(l):\n",
    "    return alphabet[l]\n",
    "\n",
    "def idx_to_letter(idx):\n",
    "    return alphabet_reverse[idx]\n",
    "\n",
    "# build graph\n",
    "def build_graph(input):\n",
    "    info = []\n",
    "    max_idx = 0\n",
    "    for x in input.replace(' ', '').split(','):\n",
    "        n_from = letter_to_idx(x[0]) \n",
    "        n_to = letter_to_idx(x[1])\n",
    "        max_idx = max(n_from, n_to, max_idx)\n",
    "        distance = int(x[2])\n",
    "        info.append((n_from, n_to, distance))\n",
    "\n",
    "    graph = [[0 for x in range(max_idx)] for r in range(max_idx)]\n",
    "    for n_from, n_to, distance in info:\n",
    "        graph[n_from - 1][n_to - 1] = distance\n",
    "\n",
    "    return graph\n",
    "\n",
    "def print_graph(graph):\n",
    "    header = \" \".join([' '] + [idx_to_letter(x + 1) for x in range(len(graph))])\n",
    "    print header\n",
    "    for ri in range(len(graph)):\n",
    "        node_name = idx_to_letter(ri + 1)\n",
    "        row = graph[ri]\n",
    "        row_str = \" \".join([node_name] + [str(x) if x != 0 else \"0\" for x in row])\n",
    "        print row_str\n",
    "\n",
    "# node_idx starts from 1\n",
    "# returns [(node_idx, distance)]\n",
    "def get_related_nodes(node_idx, graph):\n",
    "    related_nodes = graph[node_idx - 1]\n",
    "    return [(i + 1, related_nodes[i]) for i in range(len(related_nodes)) if related_nodes[i] != 0]\n",
    "\n",
    "# find shortest path using dijkstra algorithm\n",
    "def dijkstra(start, end, graph):\n",
    "    \n",
    "    # letter -> idx\n",
    "    start = letter_to_idx(start)\n",
    "    end = letter_to_idx(end)\n",
    "    \n",
    "    # {node_id: tent_distance}\n",
    "    node_tentative_distances = {}\n",
    "    # {node_id: prev_node_id}\n",
    "    node_prev = {}\n",
    "    visited_nodes = Set()\n",
    "\n",
    "    # compute tentative distance for nodes\n",
    "    def forward(current_node, current_node_tent_distance):\n",
    "        # get related nodes\n",
    "        related_nodes = get_related_nodes(current_node, graph=graph)\n",
    "        \n",
    "        # update node tentative distance\n",
    "        for related_node_idx, distance_to_related_node in related_nodes:\n",
    "            if related_node_idx not in visited_nodes:\n",
    "                related_node_tentative_distance = node_tentative_distances.get(related_node_idx)\n",
    "                if related_node_tentative_distance is None:\n",
    "                    node_tentative_distances[related_node_idx] = current_node_tent_distance + distance_to_related_node\n",
    "                    node_prev[related_node_idx] = current_node\n",
    "                elif related_node_tentative_distance > current_node_tent_distance + distance_to_related_node:\n",
    "                    # update tentative distance\n",
    "                    node_tentative_distances[related_node_idx] = current_node_tent_distance + distance_to_related_node\n",
    "                    node_prev[related_node_idx] = current_node\n",
    "\n",
    "        # mark current node as visited\n",
    "        if current_node_tent_distance != 0:\n",
    "            # do not add start node\n",
    "            visited_nodes.add(current_node)\n",
    "        \n",
    "        # recursion\n",
    "        for related_node_idx, distance_to_related_node in related_nodes:\n",
    "            if related_node_idx not in visited_nodes:\n",
    "                related_node_tentative_distance = node_tentative_distances[related_node_idx]\n",
    "                forward(related_node_idx, related_node_tentative_distance)\n",
    "                \n",
    "    # restore shortest path\n",
    "    def reverse(node_idx, depth = 0):\n",
    "        if node_idx == start:\n",
    "            if start == end and depth == 0:\n",
    "                # prevent early exit when start node eq end node\n",
    "                return reverse(node_prev[node_idx], depth + 1) + [node_idx]\n",
    "            else:\n",
    "                return [node_idx]\n",
    "        else:\n",
    "            return reverse(node_prev[node_idx], depth + 1) + [node_idx]\n",
    "\n",
    "        \n",
    "    # run\n",
    "    forward(start, 0)\n",
    "    shortest_path = reverse(end)    \n",
    "    shortest_distance = node_tentative_distances.get(end)\n",
    "    return shortest_path, shortest_distance\n",
    "\n",
    "def print_path(path, distance):\n",
    "    path_str = \"->\".join(idx_to_letter(x) for x in path)\n",
    "    return '[{}] {}'.format(distance, path_str)\n",
    "\n",
    "# def find_shortest_route_distance(route_str, print_info = False):\n",
    "#     route = route_str.split('-')\n",
    "#     total_distance = 0\n",
    "#     for i in range(len(route) - 1):\n",
    "#         start, end = route[i], route[i+1]\n",
    "#         shortest_path, distance = dijkstra(start=start, end=end, graph=graph)\n",
    "#         total_distance += distance\n",
    "#         if print_info:\n",
    "#             print '{} -> {} {}'.format(start, end, distance)\n",
    "#     return total_distance\n",
    "\n",
    "# return None if not exist\n",
    "def get_route_distance(route_str, graph):\n",
    "    route = route_str.split('-')\n",
    "    total_distance = 0\n",
    "    for i in range(len(route) - 1):\n",
    "        start_idx, end_idx = letter_to_idx(route[i]), letter_to_idx(route[i+1])\n",
    "        distance = graph[start_idx - 1][end_idx - 1]\n",
    "        if distance > 0:\n",
    "            total_distance += distance\n",
    "        else:\n",
    "            return None\n",
    "    return total_distance"
   ]
  },
  {
   "cell_type": "code",
   "execution_count": 415,
   "metadata": {
    "collapsed": false
   },
   "outputs": [
    {
     "name": "stdout",
     "output_type": "stream",
     "text": [
      "  A B C D E\n",
      "A 0 5 0 5 7\n",
      "B 0 0 4 0 0\n",
      "C 0 0 0 8 2\n",
      "D 0 0 8 0 6\n",
      "E 0 3 0 0 0\n"
     ]
    }
   ],
   "source": [
    "input = \"AB5, BC4, CD8, DC8, DE6, AD5, CE2, EB3, AE7\"\n",
    "graph = build_graph(input)\n",
    "print_graph(graph)"
   ]
  },
  {
   "cell_type": "code",
   "execution_count": 421,
   "metadata": {
    "collapsed": false
   },
   "outputs": [
    {
     "data": {
      "text/plain": [
       "'[6] B->C->E'"
      ]
     },
     "execution_count": 421,
     "metadata": {},
     "output_type": "execute_result"
    }
   ],
   "source": [
    "# find shortest path\n",
    "shortest_path, distance = dijkstra(start='B', end='E', graph=graph)\n",
    "print_path(shortest_path, distance)"
   ]
  },
  {
   "cell_type": "code",
   "execution_count": 422,
   "metadata": {
    "collapsed": false
   },
   "outputs": [
    {
     "name": "stdout",
     "output_type": "stream",
     "text": [
      "distance 22\n"
     ]
    }
   ],
   "source": [
    "# find distance\n",
    "distance = get_route_distance('A-E-B-C-D', graph)\n",
    "if distance:\n",
    "    print 'distance {}'.format(distance)\n",
    "else:\n",
    "    print 'NO SUCH ROUTE'\n"
   ]
  },
  {
   "cell_type": "code",
   "execution_count": null,
   "metadata": {
    "collapsed": true
   },
   "outputs": [],
   "source": []
  }
 ],
 "metadata": {
  "kernelspec": {
   "display_name": "Python 2",
   "language": "python",
   "name": "python2"
  },
  "language_info": {
   "codemirror_mode": {
    "name": "ipython",
    "version": 2
   },
   "file_extension": ".py",
   "mimetype": "text/x-python",
   "name": "python",
   "nbconvert_exporter": "python",
   "pygments_lexer": "ipython2",
   "version": "2.7.10"
  }
 },
 "nbformat": 4,
 "nbformat_minor": 2
}
