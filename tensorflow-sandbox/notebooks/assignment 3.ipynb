{
 "cells": [
  {
   "cell_type": "code",
   "execution_count": 150,
   "metadata": {
    "collapsed": false
   },
   "outputs": [],
   "source": [
    "rome_num = {\n",
    "    'I': 1,\n",
    "    'V': 5,\n",
    "    'X': 10,\n",
    "    'L': 50,\n",
    "    'C': 100,\n",
    "    'D': 500,\n",
    "    'M': 1000\n",
    "}\n",
    "\n",
    "repeat_rules = {\n",
    "    'I': 3,\n",
    "    'X': 3,\n",
    "    'C': 3,\n",
    "    'M': 3,\n",
    "    'D': 0,\n",
    "    'L': 0,\n",
    "    'V': 0\n",
    "}\n",
    "\n",
    "substruction_rules = {\n",
    "    'I': ['V', 'X'],\n",
    "    'X': ['L', 'C'],\n",
    "    'C': ['D', 'M']\n",
    "}\n",
    "\n",
    "# return True if num can be substructed from num_from\n",
    "def can_be_substructed(num, num_from):\n",
    "    can_be_substruct_from = substruction_rules.get(num)\n",
    "    if can_be_substruct_from is None:\n",
    "        return False\n",
    "    else:\n",
    "        return num_from in can_be_substruct_from\n",
    "        \n",
    "        \n",
    "# calc roman expressions -> arabic num\n",
    "# return arabic_num, exception\n",
    "def calc_roma_exp(roma_exp):\n",
    "    \n",
    "    exp_len = len(roma_exp)    \n",
    "    total = 0\n",
    "    current_idx = 0\n",
    "    last_num = None\n",
    "    repeat_counter = 0\n",
    "    \n",
    "    # go style\n",
    "    try:    \n",
    "        while True:\n",
    "\n",
    "            # end\n",
    "            if current_idx >= exp_len:\n",
    "                break\n",
    "\n",
    "            # current roma num & related arab num\n",
    "            roma_current = roma_exp[current_idx]\n",
    "            arab_current = rome_num[roma_current]\n",
    "\n",
    "            # count repeats\n",
    "            if last_num is None:\n",
    "                last_num = roma_current\n",
    "                repeat_counter = 1\n",
    "            elif last_num == roma_current:\n",
    "                repeat_counter += 1\n",
    "                max_allowed_repeat = repeat_rules.get(roma_current, 0)\n",
    "                if max_allowed_repeat == 0:\n",
    "                    raise Exception('{} cannot be repeated'.format(roma_current))\n",
    "                elif repeat_counter > max_allowed_repeat:            \n",
    "                    raise Exception('{} cannot be repeated more than {} times'.format(roma_current, max_allowed_repeat))\n",
    "            else:\n",
    "                #reset repeted counter\n",
    "                repeat_counter = 1\n",
    "\n",
    "            # save last num\n",
    "            last_num = roma_current\n",
    "\n",
    "            # if current num is last -> sum and break\n",
    "            if current_idx + 1 >= exp_len:\n",
    "                total += arab_current\n",
    "                break            \n",
    "            else:\n",
    "                # look ahead        \n",
    "                roma_ahead = roma_exp[current_idx + 1]\n",
    "                arab_ahead = rome_num[roma_ahead]\n",
    "\n",
    "                if arab_ahead <= arab_current:\n",
    "                    # lookahead smaller or eq\n",
    "                    total += arab_current\n",
    "                    current_idx += 1\n",
    "                else:\n",
    "                    # lookahead bigger -> apply substruction rule\n",
    "                    if can_be_substructed(roma_current, roma_ahead):\n",
    "                        total += (arab_ahead - arab_current)\n",
    "                        current_idx += 2\n",
    "                    else:\n",
    "                        raise Exception('{} cannot be substructed from {}'.format(arab_current, arab_ahead))\n",
    "                        \n",
    "        return total, None\n",
    "    \n",
    "    except Exception as ex:\n",
    "        return None, ex.message\n",
    "    "
   ]
  },
  {
   "cell_type": "code",
   "execution_count": 156,
   "metadata": {
    "collapsed": false
   },
   "outputs": [
    {
     "name": "stderr",
     "output_type": "stream",
     "text": [
      "/Users/dmitry/workspace/tensorflow-sandbox/env/lib/python2.7/site-packages/ipykernel/__main__.py:100: DeprecationWarning: BaseException.message has been deprecated as of Python 2.6\n"
     ]
    }
   ],
   "source": [
    "# some tests \n",
    "\n",
    "# ok\n",
    "assert(can_be_substructed('I', 'V'))\n",
    "assert(can_be_substructed('I', 'D') is False)\n",
    "\n",
    "# ok\n",
    "arabic, err = calc_roma_exp('MCMXLIV')\n",
    "assert(arabic == 1944)\n",
    "assert(err is None)\n",
    "\n",
    "# ok\n",
    "arabic, err = calc_roma_exp('XXXI')\n",
    "assert(err is None)\n",
    "\n",
    "# repeated error\n",
    "arabic, err = calc_roma_exp('XXXXI')\n",
    "assert(err is not None)\n",
    "\n",
    "# substruct error\n",
    "arabic, err = calc_roma_exp('XXIL')\n",
    "assert(err is not None)"
   ]
  },
  {
   "cell_type": "code",
   "execution_count": 157,
   "metadata": {
    "collapsed": false
   },
   "outputs": [
    {
     "data": {
      "text/plain": [
       "(1944, None)"
      ]
     },
     "execution_count": 157,
     "metadata": {},
     "output_type": "execute_result"
    }
   ],
   "source": []
  },
  {
   "cell_type": "code",
   "execution_count": null,
   "metadata": {
    "collapsed": true
   },
   "outputs": [],
   "source": []
  }
 ],
 "metadata": {
  "kernelspec": {
   "display_name": "Python 2",
   "language": "python",
   "name": "python2"
  },
  "language_info": {
   "codemirror_mode": {
    "name": "ipython",
    "version": 2
   },
   "file_extension": ".py",
   "mimetype": "text/x-python",
   "name": "python",
   "nbconvert_exporter": "python",
   "pygments_lexer": "ipython2",
   "version": "2.7.10"
  }
 },
 "nbformat": 4,
 "nbformat_minor": 2
}
