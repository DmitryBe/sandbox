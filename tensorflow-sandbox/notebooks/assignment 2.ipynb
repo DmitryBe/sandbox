{
 "cells": [
  {
   "cell_type": "code",
   "execution_count": 216,
   "metadata": {
    "collapsed": true
   },
   "outputs": [],
   "source": [
    "import time\n",
    "import random as rnd\n",
    "import math"
   ]
  },
  {
   "cell_type": "code",
   "execution_count": 1,
   "metadata": {
    "collapsed": true
   },
   "outputs": [],
   "source": [
    "talks = [\n",
    "    ('Writing Fast Tests Against Enterprise Rails', '60min'),\n",
    "    ('Overdoing it in Python', '45min'),\n",
    "    ('Lua for the Masses', '30min'),\n",
    "    ('Ruby Errors from Mismatched Gem Versions', '45min'),\n",
    "    ('Common Ruby Errors', '45min'),\n",
    "    ('Rails for Python Developers lightning', '60min'),\n",
    "    ('Communicating Over Distance', '60min'),\n",
    "    ('Accounting-Driven Development', '45min'),\n",
    "    ('Woah', '30min'),\n",
    "    ('Sit Down and Write', '30min'),\n",
    "    ('Pair Programming vs Noise', '45min'),\n",
    "    ('Rails Magic', '60min'),\n",
    "    ('Ruby on Rails: Why We Should Move On', '60min'),\n",
    "    ('Clojure Ate Scala (on my project)', '45min'),\n",
    "    ('Programming in the Boondocks of Seattle', '30min'),\n",
    "    ('Ruby vs. Clojure for Back-End Development', '30min'),\n",
    "    ('Ruby on Rails Legacy App Maintenance', '60min'),\n",
    "    ('A World Without HackerNews', '30min'),\n",
    "    ('User Interface CSS in Rails Apps', '30min')\n",
    "]"
   ]
  },
  {
   "cell_type": "code",
   "execution_count": 411,
   "metadata": {
    "collapsed": false
   },
   "outputs": [],
   "source": [
    "# return talk duration in mins\n",
    "def get_talk_duration_min(t):\n",
    "    return int(t[1].replace('min', ''))\n",
    "\n",
    "# python time_str -> min [int]\n",
    "def get_mins(t):\n",
    "    return t.tm_hour * 60 + t.tm_min\n",
    "\n",
    "def session_sampling(talks, track_length, max_steps = 1000):\n",
    "    min_error = 1000000\n",
    "    best_sample_track = None\n",
    "    for i in range(max_steps):\n",
    "\n",
    "        sample = random.sample(talks, len(talks))\n",
    "        session_sum = 0\n",
    "        track_talks = []\n",
    "        for i in range(len(sample)):\n",
    "            talk = sample[i]\n",
    "            talk_mins = get_talk_duration_min(talk)\n",
    "\n",
    "            if session_sum + talk_mins <= track_length:\n",
    "                track_talks.append(talk)\n",
    "                session_sum += talk_mins\n",
    "            else:\n",
    "                break\n",
    "\n",
    "        error = abs(session_sum - track_length)\n",
    "        if error < min_error:\n",
    "            min_error = error\n",
    "            best_sample_track = track_talks\n",
    "\n",
    "        if min_error == 0:\n",
    "            break\n",
    "    \n",
    "    return (best_sample_track, session_sum, min_error)\n",
    "\n",
    "def track_sampling(talks, max_steps = 1000):\n",
    "    \n",
    "    session1, session1_length_min, session_error1 = session_sampling(talks=talks, track_length=track_1_length)\n",
    "    #print 'session 1, {}/{}'.format(session1_length_min, session_error1)\n",
    "    #print_track_talks(session1)\n",
    "\n",
    "    remained_talks = diff(talks, session1)\n",
    "\n",
    "    session2, session2_length_min, session_error2 = session_sampling(talks=remained_talks, track_length=track_2_length)\n",
    "    #print 'session 2, {}/{}'.format(session2_length_min, session_error2)\n",
    "    #print_track_talks(session2)\n",
    "\n",
    "    # session 1 / session 2 total error\n",
    "    sum_error = session_error1 + session_error2\n",
    "    \n",
    "    remained_talks = diff(remained_talks, session2)\n",
    "        \n",
    "    return (session1, session2, sum_error, remained_talks)\n",
    "\n",
    "def diff(first, second):\n",
    "    second = set(second)\n",
    "    return [item for item in first if item not in second]\n",
    "\n",
    "def print_track_talks(track_talks, start_hour):\n",
    "    start = datetime.datetime(100,1,1,start_hour,0,0)\n",
    "    for talk in track_talks:\n",
    "        talk_mins = get_talk_duration_min(talk)\n",
    "        print \"{} {} {}min\".format(start.time(), talk[0], talk_mins)        \n",
    "        start = start + datetime.timedelta(minutes=talk_mins)\n"
   ]
  },
  {
   "cell_type": "code",
   "execution_count": 50,
   "metadata": {
    "collapsed": false
   },
   "outputs": [],
   "source": [
    "# given \n",
    "\n",
    "day_start = time.strptime('9:00','%H:%M')\n",
    "day_end = time.strptime('17:00','%H:%M')\n",
    "\n",
    "lunch_start = time.strptime('12:00','%H:%M')\n",
    "lunch_duration_min = 60\n",
    "\n",
    "track_1_length = get_mins(lunch_start) - get_mins(day_start)\n",
    "track_2_length = get_mins(day_end) - get_mins(lunch_start) - lunch_duration_min"
   ]
  },
  {
   "cell_type": "code",
   "execution_count": 412,
   "metadata": {
    "collapsed": false
   },
   "outputs": [
    {
     "name": "stdout",
     "output_type": "stream",
     "text": [
      "\n",
      "Track 1, error 0\n",
      "09:00:00 Ruby on Rails: Why We Should Move On 60min\n",
      "10:00:00 User Interface CSS in Rails Apps 30min\n",
      "10:30:00 Ruby on Rails Legacy App Maintenance 60min\n",
      "11:30:00 A World Without HackerNews 30min\n",
      "12:00PM Lunch\n",
      "13:00:00 Programming in the Boondocks of Seattle 30min\n",
      "13:30:00 Communicating Over Distance 60min\n",
      "14:30:00 Rails Magic 60min\n",
      "15:30:00 Lua for the Masses 30min\n",
      "16:00:00 Rails for Python Developers lightning 60min\n",
      "\n",
      "Track 2, error 0\n",
      "09:00:00 Pair Programming vs Noise 45min\n",
      "09:45:00 Clojure Ate Scala (on my project) 45min\n",
      "10:30:00 Ruby Errors from Mismatched Gem Versions 45min\n",
      "11:15:00 Common Ruby Errors 45min\n",
      "12:00PM Lunch\n",
      "13:00:00 Overdoing it in Python 45min\n",
      "13:45:00 Accounting-Driven Development 45min\n",
      "14:30:00 Sit Down and Write 30min\n",
      "15:00:00 Ruby vs. Clojure for Back-End Development 30min\n",
      "15:30:00 Woah 30min\n",
      "16:00:00 Writing Fast Tests Against Enterprise Rails 60min\n"
     ]
    }
   ],
   "source": [
    "# simulation\n",
    "\n",
    "session1, session2, track_error1, remained_talks = track_sampling(talks=talks)\n",
    "\n",
    "print '\\nTrack 1, error {}'.format(track_error1)\n",
    "print_track_talks(session1, 9)\n",
    "print '12:00PM Lunch'\n",
    "print_track_talks(session2, 13)\n",
    "\n",
    "session3, session4, track_error2, remained_talks = track_sampling(talks=remained_talks)\n",
    "\n",
    "print '\\nTrack 2, error {}'.format(track_error2)\n",
    "print_track_talks(session3, 9)\n",
    "print '12:00PM Lunch'\n",
    "print_track_talks(session4, 13)\n",
    "\n",
    "# print 'remained'\n",
    "# print_track_talks(remained_talks)\n"
   ]
  },
  {
   "cell_type": "code",
   "execution_count": null,
   "metadata": {
    "collapsed": true
   },
   "outputs": [],
   "source": []
  }
 ],
 "metadata": {
  "kernelspec": {
   "display_name": "Python 2",
   "language": "python",
   "name": "python2"
  },
  "language_info": {
   "codemirror_mode": {
    "name": "ipython",
    "version": 2
   },
   "file_extension": ".py",
   "mimetype": "text/x-python",
   "name": "python",
   "nbconvert_exporter": "python",
   "pygments_lexer": "ipython2",
   "version": "2.7.10"
  }
 },
 "nbformat": 4,
 "nbformat_minor": 2
}
