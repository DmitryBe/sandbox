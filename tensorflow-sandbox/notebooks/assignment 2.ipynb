{
 "cells": [
  {
   "cell_type": "code",
   "execution_count": 3,
   "metadata": {
    "collapsed": true,
    "deletable": true,
    "editable": true
   },
   "outputs": [],
   "source": [
    "import time\n",
    "import random as rnd\n",
    "import math\n",
    "import datetime"
   ]
  },
  {
   "cell_type": "code",
   "execution_count": 7,
   "metadata": {
    "collapsed": false,
    "deletable": true,
    "editable": true
   },
   "outputs": [],
   "source": [
    "# return talk duration in mins\n",
    "def get_talk_duration_min(t):\n",
    "    return int(t[1].replace('min', ''))\n",
    "\n",
    "# list difference \n",
    "def diff(first, second):\n",
    "    second = set(second)\n",
    "    return [item for item in first if item not in second]\n",
    "\n",
    "def print_track_talks(track_talks, start_hour):\n",
    "    start = datetime.datetime(100,1,1,start_hour,0,0)\n",
    "    for talk in track_talks:\n",
    "        talk_mins = get_talk_duration_min(talk)\n",
    "        start_str = start.time().strftime(\"%I:%M%p\")\n",
    "        print \"{} {} {}min\".format(start_str, talk[0], talk_mins)        \n",
    "        start = start + datetime.timedelta(minutes=talk_mins)\n",
    "\n",
    "# sample talks for session\n",
    "def session_sampling(talks, track_length, max_steps = 1000):\n",
    "    min_error = 1000000\n",
    "    best_sample_track = None\n",
    "    for i in range(max_steps):\n",
    "\n",
    "        sample = rnd.sample(range(len(talks)), len(talks))        \n",
    "        session_sum = 0\n",
    "        track_talks = []\n",
    "        for i in sample:\n",
    "            talk = talks[i]\n",
    "            talk_mins = get_talk_duration_min(talk)\n",
    "\n",
    "            if session_sum + talk_mins <= track_length:\n",
    "                track_talks.append(talk)\n",
    "                session_sum += talk_mins\n",
    "            else:\n",
    "                break\n",
    "\n",
    "        error = abs(session_sum - track_length)\n",
    "        if error < min_error:\n",
    "            min_error = error\n",
    "            best_sample_track = track_talks\n",
    "\n",
    "        if min_error == 0:\n",
    "            break\n",
    "    \n",
    "    return (best_sample_track, session_sum, min_error)\n",
    "\n",
    "# track sampling\n",
    "def track_sampling(talks, track_1_length, track_2_length, max_steps = 1000):   \n",
    "    \n",
    "    session1, session1_length_min, session_error1 = session_sampling(talks=talks, track_length=track_1_length)\n",
    "    remained_talks = diff(talks, session1)\n",
    "    session2, session2_length_min, session_error2 = session_sampling(talks=remained_talks, track_length=track_2_length)\n",
    "    sum_error = session_error1 + session_error2    \n",
    "    remained_talks = diff(remained_talks, session2)        \n",
    "    return (session1, session2, sum_error, remained_talks)\n",
    "\n",
    "def build_tracks(day_start, day_end, lunch_start, lunch_end):\n",
    "    \n",
    "    # compute track length\n",
    "    track_1_length = int((lunch_start - day_start).total_seconds() / 60)\n",
    "    track_2_length = int((day_end - lunch_end).total_seconds() / 60)\n",
    "\n",
    "    lunch_start_str = lunch_start.time().strftime(\"%I:%M%p\")\n",
    "    \n",
    "    track_id = 0\n",
    "    remained_talks = talks\n",
    "    while len(remained_talks) > 0:            \n",
    "        track_id += 1\n",
    "        session1, session2, track_error1, remained_talks = track_sampling(remained_talks, track_1_length, track_2_length)\n",
    "        print '\\nTrack {}'.format(track_id)\n",
    "        print_track_talks(session1, 9)\n",
    "        print '{} Lunch'.format(lunch_start_str)\n",
    "        print_track_talks(session2, 13)\n"
   ]
  },
  {
   "cell_type": "code",
   "execution_count": 12,
   "metadata": {
    "collapsed": false,
    "deletable": true,
    "editable": true
   },
   "outputs": [
    {
     "name": "stdout",
     "output_type": "stream",
     "text": [
      "\n",
      "Track 1\n",
      "09:00AM User Interface CSS in Rails Apps 30min\n",
      "09:30AM Ruby on Rails: Why We Should Move On 60min\n",
      "10:30AM Lua for the Masses 30min\n",
      "11:00AM Rails Magic 60min\n",
      "12:00PM Lunch\n",
      "01:00PM Common Ruby Errors 45min\n",
      "01:45PM Writing Fast Tests Against Enterprise Rails 60min\n",
      "02:45PM Ruby Errors from Mismatched Gem Versions 45min\n",
      "03:30PM 2Lua for the Masses 30min\n",
      "04:00PM 2Writing Fast Tests Against Enterprise Rails 60min\n",
      "\n",
      "Track 2\n",
      "09:00AM Programming in the Boondocks of Seattle 30min\n",
      "09:30AM Sit Down and Write 30min\n",
      "10:00AM 3Programming in the Boondocks of Seattle 30min\n",
      "10:30AM Accounting-Driven Development 45min\n",
      "11:15AM Clojure Ate Scala (on my project) 45min\n",
      "12:00PM Lunch\n",
      "01:00PM Ruby vs. Clojure for Back-End Development 30min\n",
      "01:30PM Woah 30min\n",
      "02:00PM Pair Programming vs Noise 45min\n",
      "02:45PM 1Pair Programming vs Noise 45min\n",
      "03:30PM Overdoing it in Python 45min\n",
      "04:15PM 2Overdoing it in Python 45min\n",
      "\n",
      "Track 3\n",
      "09:00AM Rails for Python Developers lightning 60min\n",
      "10:00AM Communicating Over Distance 60min\n",
      "11:00AM 3Ruby on Rails: Why We Should Move On 60min\n",
      "12:00PM Lunch\n",
      "01:00PM 1Rails Magic 60min\n",
      "02:00PM Ruby on Rails Legacy App Maintenance 60min\n",
      "03:00PM 1Ruby on Rails: Why We Should Move On 60min\n",
      "04:00PM 3Rails Magic 60min\n",
      "\n",
      "Track 4\n",
      "09:00AM A World Without HackerNews 30min\n",
      "09:30AM 3Clojure Ate Scala (on my project) 45min\n",
      "12:00PM Lunch\n"
     ]
    }
   ],
   "source": [
    "# given \n",
    "\n",
    "day_start = datetime.datetime.strptime('09:00AM', '%I:%M%p')\n",
    "day_end = datetime.datetime.strptime('05:00PM', '%I:%M%p')\n",
    "assert(day_end > day_start)\n",
    "\n",
    "lunch_start = datetime.datetime.strptime('12:00PM', '%I:%M%p')\n",
    "lunch_end = datetime.datetime.strptime('01:00PM', '%I:%M%p')\n",
    "assert(lunch_end > lunch_start)\n",
    "assert(lunch_start > day_start)\n",
    "assert(day_end > lunch_end)\n",
    "\n",
    "talks = [\n",
    "    ('Writing Fast Tests Against Enterprise Rails', '60min'),\n",
    "    ('Overdoing it in Python', '45min'),\n",
    "    ('Lua for the Masses', '30min'),\n",
    "    ('Ruby Errors from Mismatched Gem Versions', '45min'),\n",
    "    ('Common Ruby Errors', '45min'),\n",
    "    ('Rails for Python Developers lightning', '60min'),\n",
    "    ('Communicating Over Distance', '60min'),\n",
    "    ('Accounting-Driven Development', '45min'),\n",
    "    ('Woah', '30min'),\n",
    "    ('Sit Down and Write', '30min'),\n",
    "    ('Pair Programming vs Noise', '45min'),\n",
    "    ('Rails Magic', '60min'),\n",
    "    ('Ruby on Rails: Why We Should Move On', '60min'),\n",
    "    ('Clojure Ate Scala (on my project)', '45min'),\n",
    "    ('Programming in the Boondocks of Seattle', '30min'),\n",
    "    ('Ruby vs. Clojure for Back-End Development', '30min'),\n",
    "    ('Ruby on Rails Legacy App Maintenance', '60min'),\n",
    "    ('A World Without HackerNews', '30min'),\n",
    "    ('User Interface CSS in Rails Apps', '30min'),\n",
    "    \n",
    "    ('1Pair Programming vs Noise', '45min'),\n",
    "    ('1Rails Magic', '60min'),\n",
    "    ('1Ruby on Rails: Why We Should Move On', '60min'),\n",
    "\n",
    "    ('2Writing Fast Tests Against Enterprise Rails', '60min'),\n",
    "    ('2Overdoing it in Python', '45min'),\n",
    "    ('2Lua for the Masses', '30min'),\n",
    "    \n",
    "    ('3Rails Magic', '60min'),\n",
    "    ('3Ruby on Rails: Why We Should Move On', '60min'),\n",
    "    ('3Clojure Ate Scala (on my project)', '45min'),\n",
    "    ('3Programming in the Boondocks of Seattle', '30min'),\n",
    "\n",
    "\n",
    "\n",
    "]\n",
    "\n",
    "# run\n",
    "build_tracks(day_start, day_end, lunch_start, lunch_end)"
   ]
  },
  {
   "cell_type": "code",
   "execution_count": 9,
   "metadata": {
    "collapsed": false,
    "deletable": true,
    "editable": true
   },
   "outputs": [
    {
     "data": {
      "text/plain": [
       "[('Overdoing it in Python', '45min'),\n",
       " ('Writing Fast Tests Against Enterprise Rails', '60min')]"
      ]
     },
     "execution_count": 9,
     "metadata": {},
     "output_type": "execute_result"
    }
   ],
   "source": [
    "rnd.sample(talks, 2)"
   ]
  },
  {
   "cell_type": "code",
   "execution_count": null,
   "metadata": {
    "collapsed": true
   },
   "outputs": [],
   "source": []
  }
 ],
 "metadata": {
  "kernelspec": {
   "display_name": "Python 2",
   "language": "python",
   "name": "python2"
  },
  "language_info": {
   "codemirror_mode": {
    "name": "ipython",
    "version": 2
   },
   "file_extension": ".py",
   "mimetype": "text/x-python",
   "name": "python",
   "nbconvert_exporter": "python",
   "pygments_lexer": "ipython2",
   "version": "2.7.10"
  }
 },
 "nbformat": 4,
 "nbformat_minor": 2
}
