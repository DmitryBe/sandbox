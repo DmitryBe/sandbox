{
 "cells": [
  {
   "cell_type": "code",
   "execution_count": 1,
   "metadata": {
    "collapsed": true
   },
   "outputs": [],
   "source": [
    "import tensorflow as tf\n",
    "from tensorflow.contrib.layers import fully_connected\n",
    "import gym\n",
    "import numpy as np"
   ]
  },
  {
   "cell_type": "code",
   "execution_count": 2,
   "metadata": {
    "collapsed": false
   },
   "outputs": [
    {
     "name": "stderr",
     "output_type": "stream",
     "text": [
      "[2017-01-26 00:14:05,083] Making new env: CartPole-v0\n"
     ]
    }
   ],
   "source": [
    "# create env\n",
    "env = gym.make(\"CartPole-v0\")\n",
    "obs = env.reset()\n",
    "# env.render()"
   ]
  },
  {
   "cell_type": "code",
   "execution_count": 3,
   "metadata": {
    "collapsed": true
   },
   "outputs": [],
   "source": [
    "def discount_rewards(rewards, discount_rate):\n",
    "    discounted_rewards = np.empty(len(rewards))\n",
    "    cumulative_rewards = 0\n",
    "    for step in reversed(range(len(rewards))):\n",
    "        cumulative_rewards = rewards[step] + cumulative_rewards * discount_rate\n",
    "        discounted_rewards[step] = cumulative_rewards\n",
    "    return discounted_rewards\n",
    "\n",
    "def discount_and_normalize_rewards(all_rewards, discount_rate):\n",
    "    all_discounted_rewards = [discount_rewards(rewards, discount_rate)\n",
    "                              for rewards in all_rewards]\n",
    "    flat_rewards = np.concatenate(all_discounted_rewards)\n",
    "    reward_mean = flat_rewards.mean()\n",
    "    reward_std = flat_rewards.std()\n",
    "    return [(discounted_rewards - reward_mean)/reward_std\n",
    "            for discounted_rewards in all_discounted_rewards]"
   ]
  },
  {
   "cell_type": "code",
   "execution_count": 4,
   "metadata": {
    "collapsed": false
   },
   "outputs": [],
   "source": [
    "n_inputs = 4\n",
    "n_hidden = 4\n",
    "n_output = 1\n",
    "initializer = tf.contrib.layers.variance_scaling_initializer()\n",
    "\n",
    "X = tf.placeholder(tf.float32, shape=[None, n_inputs])\n",
    "hidden = fully_connected(X, n_hidden, activation_fn=tf.nn.elu, \n",
    "                         weights_initializer=initializer)\n",
    "logits = fully_connected(hidden, n_output, activation_fn=None, \n",
    "                         weights_initializer=initializer)\n",
    "outputs = tf.nn.sigmoid(logits)\n",
    "\n",
    "p_left_right = tf.concat(concat_dim=1, values=[outputs, 1 - outputs])\n",
    "action = tf.multinomial(tf.log(p_left_right), num_samples=1)\n",
    "\n",
    "y = 1. - tf.to_float(action)\n",
    "cross_entropy = tf.nn.sigmoid_cross_entropy_with_logits(logits, y)\n",
    "\n",
    "learning_rate = 0.01\n",
    "optimizer = tf.train.AdamOptimizer(learning_rate)\n",
    "# optimizer = tf.train.GradientDescentOptimizer(learning_rate)\n",
    "grads_and_vars = optimizer.compute_gradients(cross_entropy)\n",
    "gradients = [grad for grad, variable in grads_and_vars]\n",
    "\n",
    "gradient_placeholders = []\n",
    "grads_and_vars_feed = []\n",
    "for grad, variable in grads_and_vars:\n",
    "    gradient_placeholder = tf.placeholder(tf.float32, shape=grad.get_shape())\n",
    "    gradient_placeholders.append(gradient_placeholder)\n",
    "    grads_and_vars_feed.append((gradient_placeholder, variable))\n",
    "    \n",
    "training_op = optimizer.apply_gradients(grads_and_vars_feed)\n",
    "\n",
    "init = tf.global_variables_initializer()\n",
    "saver = tf.train.Saver()"
   ]
  },
  {
   "cell_type": "code",
   "execution_count": null,
   "metadata": {
    "collapsed": false
   },
   "outputs": [],
   "source": [
    "# train\n",
    "\n",
    "n_iterations = 500      # number of training iterations\n",
    "n_max_steps = 1000      # max steps per episode\n",
    "n_games_per_update = 10 # train the policy every 10 episodes\n",
    "save_iterations = 10    # save the model every 10 training iterations\n",
    "discount_rate = 0.95\n",
    "\n",
    "with tf.Session() as sess:\n",
    "    init.run()\n",
    "    \n",
    "    for iteration in range(n_iterations):\n",
    "\n",
    "        all_rewards = []    # all sequences of raw rewards for each episode\n",
    "        all_gradients = []  # gradients saved at each step of each episode\n",
    "        for game in range(n_games_per_update):\n",
    "            # game\n",
    "            current_rewards = []   # all raw rewards from the current episode\n",
    "            current_gradients = [] # all gradients from the current episode\n",
    "            obs = env.reset()\n",
    "            for step in range(n_max_steps):\n",
    "                action_val, gradients_val = sess.run(\n",
    "                        [action, gradients],\n",
    "                        feed_dict={X: obs.reshape(1, n_inputs)}) # one obs\n",
    "                obs, reward, done, info = env.step(action_val[0][0])\n",
    "                \n",
    "#                 if iteration % save_iterations == 0:\n",
    "#                     env.render()\n",
    "                    \n",
    "                current_rewards.append(reward)\n",
    "                current_gradients.append(gradients_val)        \n",
    "                if done:\n",
    "                    break\n",
    "\n",
    "            all_rewards.append(current_rewards)\n",
    "            all_gradients.append(current_gradients)\n",
    "\n",
    "        # At this point we have run the policy for 10 episodes, and we are\n",
    "        # ready for a policy update using the algorithm described earlier.\n",
    "        all_rewards = discount_and_normalize_rewards(all_rewards, discount_rate=discount_rate)\n",
    "        feed_dict = {}\n",
    "        for var_index, grad_placeholder in enumerate(gradient_placeholders):\n",
    "            # multiply the gradients by the action scores, and compute the mean\n",
    "            mean_gradients = np.mean(\n",
    "                [reward * all_gradients[game_index][step][var_index]\n",
    "                    for game_index, rewards in enumerate(all_rewards)\n",
    "                    for step, reward in enumerate(rewards)],\n",
    "                axis=0)\n",
    "            feed_dict[grad_placeholder] = mean_gradients\n",
    "        sess.run(training_op, feed_dict=feed_dict)\n",
    "        if iteration % save_iterations == 0:\n",
    "            saver.save(sess, 'my_model_delta.ckpt')\n",
    "    \n",
    "    save_path = saver.save(sess, \"my_model_final_500.ckpt\")\n",
    "    \n",
    "print 'done: {}'.format(save_path)"
   ]
  },
  {
   "cell_type": "code",
   "execution_count": 1,
   "metadata": {
    "collapsed": false
   },
   "outputs": [],
   "source": [
    "# playing"
   ]
  },
  {
   "cell_type": "code",
   "execution_count": 5,
   "metadata": {
    "collapsed": false
   },
   "outputs": [
    {
     "name": "stdout",
     "output_type": "stream",
     "text": [
      "restored\n",
      "avg: 185.9 min: 108.0 max: 295.0\n"
     ]
    }
   ],
   "source": [
    "n_max_steps = 1000      # max steps per episode\n",
    "n_games_per_update = 10 # train the policy every 10 episodes\n",
    "\n",
    "env.reset()\n",
    "env.render()\n",
    "with tf.Session() as sess:\n",
    "    saver.restore(sess, \"/Users/dmitry/workspace/tensorflow_sandbox/notebooks/my_model_final.ckpt\")\n",
    "    print \"restored\"\n",
    "\n",
    "    all_rewards = []    # all sequences of raw rewards for each episode\n",
    "    for game in range(n_games_per_update):\n",
    "            \n",
    "        current_rewards = []   # all raw rewards from the current episode    \n",
    "        obs = env.reset()\n",
    "        for step in range(n_max_steps):\n",
    "            action_val = sess.run(\n",
    "                    action,\n",
    "                    feed_dict={X: obs.reshape(1, n_inputs)}) # one obs\n",
    "            obs, reward, done, info = env.step(action_val[0][0])\n",
    "            env.render()\n",
    "            current_rewards.append(reward)\n",
    "            if done:\n",
    "                break\n",
    "                \n",
    "        all_rewards.append(sum(current_rewards))\n",
    "\n",
    "print \"avg: {} min: {} max: {}\".format(\n",
    "    np.average(all_rewards),\n",
    "    np.min(all_rewards),\n",
    "    np.max(all_rewards)\n",
    ")        \n",
    "        "
   ]
  },
  {
   "cell_type": "code",
   "execution_count": null,
   "metadata": {
    "collapsed": true
   },
   "outputs": [],
   "source": []
  }
 ],
 "metadata": {
  "kernelspec": {
   "display_name": "Python 2",
   "language": "python",
   "name": "python2"
  },
  "language_info": {
   "codemirror_mode": {
    "name": "ipython",
    "version": 2
   },
   "file_extension": ".py",
   "mimetype": "text/x-python",
   "name": "python",
   "nbconvert_exporter": "python",
   "pygments_lexer": "ipython2",
   "version": "2.7.10"
  }
 },
 "nbformat": 4,
 "nbformat_minor": 2
}
